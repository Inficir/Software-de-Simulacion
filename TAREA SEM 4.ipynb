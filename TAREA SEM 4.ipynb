{
 "cells": [
  {
   "cell_type": "code",
   "execution_count": 5,
   "id": "9c1254e2",
   "metadata": {},
   "outputs": [
    {
     "name": "stdout",
     "output_type": "stream",
     "text": [
      "Por favor, ingrese el radio del círculo: 6\n",
      "El perímetro del círculo es: 37.698\n",
      "El área del círculo es: 113.094\n"
     ]
    }
   ],
   "source": [
    "#Ej 1 \n",
    "\n",
    "radio = float(input(\"Por favor, ingrese el radio del círculo: \"))\n",
    "\n",
    "perimetro = 2*3.1415*radio\n",
    "\n",
    "area = 3.1415*radio**2\n",
    "\n",
    "# Imprimir los resultados\n",
    "print(\"El perímetro del círculo es:\", \"{:.3f}\".format(perimetro))\n",
    "print(\"El área del círculo es:\", \"{:.3f}\".format(area))"
   ]
  },
  {
   "cell_type": "code",
   "execution_count": 7,
   "id": "c20da004",
   "metadata": {},
   "outputs": [
    {
     "name": "stdout",
     "output_type": "stream",
     "text": [
      "Ingresa el precio del producto: 10\n",
      "El precio final es de:  11.2  USD\n"
     ]
    }
   ],
   "source": [
    "#ej 2\n",
    "pr = float(input(\"Ingresa el precio del producto: \"))\n",
    "pr_iva = pr+(pr*0.12)\n",
    "print(\"El precio final es de: \", pr_iva, \" USD\")\n",
    "\n"
   ]
  },
  {
   "cell_type": "code",
   "execution_count": 8,
   "id": "a165278c",
   "metadata": {},
   "outputs": [
    {
     "name": "stdout",
     "output_type": "stream",
     "text": [
      "El numero aleatorio generado en el intervalo (0, 10) es:  4.886\n",
      "FALSE: El numero generado es menor a 5\n"
     ]
    }
   ],
   "source": [
    "#Ej 3\n",
    "import random\n",
    "rand = random.uniform(0, 10)\n",
    "print (\"El numero aleatorio generado en el intervalo (0, 10) es: \", \"%.3f\"%rand)\n",
    "if(rand>5.00):\n",
    "    print (\"TRUE: El numero generado es mayor a 5\")\n",
    "else:\n",
    "    print (\"FALSE: El numero generado es menor a 5\")"
   ]
  },
  {
   "cell_type": "code",
   "execution_count": 9,
   "id": "4524155c",
   "metadata": {},
   "outputs": [
    {
     "name": "stdout",
     "output_type": "stream",
     "text": [
      "escriba una palabra software\n",
      "w no es una vocal\n"
     ]
    }
   ],
   "source": [
    "#Ej 4\n",
    "\n",
    "\n",
    "c=input(\"escriba una palabra \")\n",
    "\n",
    "\n",
    "v=[\"a\",\"e\",\"i\",\"o\",\"u\"]\n",
    "\n",
    "\n",
    "if c[4] in v:\n",
    "    print(str(c[4])+\" es una vocal\")\n",
    "else:\n",
    "    \n",
    "    print(str(c[4])+\" no es una vocal\")"
   ]
  },
  {
   "cell_type": "code",
   "execution_count": 23,
   "id": "d3714bfd",
   "metadata": {},
   "outputs": [
    {
     "name": "stdout",
     "output_type": "stream",
     "text": [
      "Lista\n",
      "\n",
      "La suma de la lista es: 450\n"
     ]
    }
   ],
   "source": [
    "#Ej 5\n",
    "\n",
    "print(\"Lista\\n\")\n",
    "\n",
    "lis =[0,10,20,30,40,50,60,70,80,90]\n",
    "\n",
    "sum_list=sum(lis)\n",
    "   \n",
    "\n",
    "print(\"La suma de la lista es:\", sum_list)\n"
   ]
  },
  {
   "cell_type": "code",
   "execution_count": 36,
   "id": "1e9bcb7f",
   "metadata": {},
   "outputs": [
    {
     "name": "stdout",
     "output_type": "stream",
     "text": [
      "Lista\n",
      "\n",
      "La suma de la lista es: 366\n",
      "El menor valor de la lista es:  1\n"
     ]
    }
   ],
   "source": [
    "#Ej 6\n",
    "print(\"Lista\\n\")\n",
    "\n",
    "lis =[5,10,20,30,40,50,60,70,80,1]\n",
    "\n",
    "sum_list=sum(lis)\n",
    "menor=lis[0]\n",
    "\n",
    "for i in lis:\n",
    "    if i<menor:\n",
    "        menor=i\n",
    "   \n",
    "\n",
    "print(\"La suma de la lista es:\", sum_list)\n",
    "print(\"El menor valor de la lista es: \", menor)"
   ]
  },
  {
   "cell_type": "code",
   "execution_count": 39,
   "id": "c3ec301a",
   "metadata": {},
   "outputs": [
    {
     "name": "stdout",
     "output_type": "stream",
     "text": [
      "Lista\n",
      "\n",
      "Lista normal:  [5, 10, 20, 30, 40, 50, 60, 70, 80, 1]\n",
      "La suma de la lista es: 366\n",
      "El menor valor de la lista es:  1\n",
      "Lista modificada:  [125, 1000, 8000, 900, 64000, 125000, 3600, 343000, 512000, 1]\n"
     ]
    }
   ],
   "source": [
    "#Ej 7\n",
    "print(\"Lista\\n\")\n",
    "\n",
    "lis =[5,10,20,30,40,50,60,70,80,1]\n",
    "print(\"Lista normal: \", lis)\n",
    "lista_pot= []\n",
    "\n",
    "sum_list=sum(lis)\n",
    "menor=lis[0]\n",
    "\n",
    "for i in lis:\n",
    "    \n",
    "    if i%3==0:\n",
    "        lista_pot.append(i**2)\n",
    "    else:\n",
    "        lista_pot.append(i**3)\n",
    "    \n",
    "    if i<menor:\n",
    "        menor=i\n",
    "\n",
    "print(\"La suma de la lista es:\", sum_list)\n",
    "print(\"El menor valor de la lista es: \", menor)\n",
    "print(\"Lista modificada: \", lista_pot)\n",
    "\n"
   ]
  },
  {
   "cell_type": "code",
   "execution_count": 54,
   "id": "2d1bdc01",
   "metadata": {},
   "outputs": [
    {
     "name": "stdout",
     "output_type": "stream",
     "text": [
      "Palabras con A\n",
      "\n",
      "['hola', 'estas', 'EstA', 'taRde']\n"
     ]
    }
   ],
   "source": [
    "#ej 8\n",
    "print(\"Palabras con A\\n\")\n",
    "\n",
    "lis_palabras = [\"hola\", \"como\", \"estas\", \"en\", \"EstA\", \"taRde\"]\n",
    "lis_palabras2=[]\n",
    "\n",
    "for palabras in lis_palabras:\n",
    "  if \"a\" in palabras:\n",
    "    lis_palabras2.append(palabras)\n",
    "  if \"A\" in palabras:\n",
    "    lis_palabras2.append(palabras)  \n",
    "\n",
    "print(lis_palabras2)"
   ]
  },
  {
   "cell_type": "code",
   "execution_count": 56,
   "id": "47307c11",
   "metadata": {},
   "outputs": [
    {
     "name": "stdout",
     "output_type": "stream",
     "text": [
      "Lista actual:  [1, 2, 3, 4, 5, 6, 7, 8, 9, 10]\n",
      "Valores mayores a 4\n",
      "[10, 12, 14, 16, 18, 20]\n"
     ]
    }
   ],
   "source": [
    "#Ej 9\n",
    "\n",
    "\n",
    "\n",
    "lis = [1, 2, 3, 4, 5, 6, 7,8,9,10]\n",
    "print(\"Lista actual: \", lis)\n",
    "lis2 = []\n",
    "\n",
    "for i in lis:\n",
    "  if i>4:\n",
    "    numero=i*2\n",
    "    lis2.append(numero)\n",
    "print(\"Valores mayores a 4\")\n",
    "print(lis2)"
   ]
  },
  {
   "cell_type": "code",
   "execution_count": 57,
   "id": "72c5c84f",
   "metadata": {},
   "outputs": [
    {
     "name": "stdout",
     "output_type": "stream",
     "text": [
      "Tuplas a string\n",
      "\n",
      "recorrido\n"
     ]
    }
   ],
   "source": [
    "#Ej 10\n",
    "print(\"De Tupla a String\")\n",
    "print()\n",
    "\n",
    "class convertir:\n",
    "    @classmethod\n",
    "    def tuplacad(clase, Tupla):\n",
    "        if isinstance(Tupla, tuple):\n",
    "                Result = ''.join(Tupla)\n",
    "                return Result\n",
    "\n",
    "\n",
    "Tupla=(\"r\",\"e\",\"c\",\"o\",\"r\", \"r\", \"i\", \"d\", \"o\")\n",
    "\n",
    "cadenaCAR=convertir.tuplacad(Tupla)\n",
    "print(cadenaCAR)"
   ]
  },
  {
   "cell_type": "code",
   "execution_count": 60,
   "id": "498880e0",
   "metadata": {},
   "outputs": [
    {
     "name": "stdout",
     "output_type": "stream",
     "text": [
      "Hay una letra 'o'?\n",
      "\n",
      "La letra 'o' si esta en la tupla\n"
     ]
    }
   ],
   "source": [
    "#ej 11\n",
    "print(\"Hay una letra 'o'?\\n\")\n",
    "\n",
    "Tupla=(\"Software\",\"arcairis\")\n",
    "caracter_o=False\n",
    "\n",
    "\n",
    "for i in Tupla:\n",
    "  if \"o\" in i:\n",
    "    caracter_o=True\n",
    "if caracter_o:\n",
    "  print(\"La letra 'o' si esta en la tupla\")\n",
    "else:\n",
    "  print(\"La letra 'o' no esta la tupla\")"
   ]
  },
  {
   "cell_type": "code",
   "execution_count": 62,
   "id": "874829ce",
   "metadata": {},
   "outputs": [
    {
     "name": "stdout",
     "output_type": "stream",
     "text": [
      "Tercer elemento de la Tupla\n",
      "\n",
      "Tupla inicial: (1, 2, 3, 4, 5)\n",
      "primera Tupla recortada : (1, 2)\n",
      "segunda Tupla recortada:  (4, 5)\n",
      "la Tupla es: (1, 2, 4, 5)\n"
     ]
    }
   ],
   "source": [
    "#Ej 12\n",
    "print(\"Tercer elemento de la Tupla\\n\")\n",
    "\n",
    "Tupla=(1,2,3,4,5)\n",
    "Ind=2\n",
    "\n",
    "Tupla0=(Tupla[:Ind])\n",
    "Tupla1=(Tupla[Ind+1:])\n",
    "\n",
    "print(\"Tupla inicial:\",Tupla)\n",
    "print(\"primera Tupla recortada :\",Tupla0)\n",
    "print(\"segunda Tupla recortada: \",Tupla1)\n",
    "\n",
    "print(\"la Tupla es:\",Tupla0+Tupla1)"
   ]
  },
  {
   "cell_type": "code",
   "execution_count": 64,
   "id": "da32fbd1",
   "metadata": {},
   "outputs": [
    {
     "name": "stdout",
     "output_type": "stream",
     "text": [
      "Tercer elemento de la Tupla (tupla-lista)\n",
      "\n",
      "La Tupla recortada es: (5, 4, 2, 1)\n"
     ]
    }
   ],
   "source": [
    "#ej 13\n",
    "print(\"Tercer elemento de la Tupla (tupla-lista)\\n\")\n",
    "\n",
    "Tupla=(5,4,3,2,1)\n",
    "lis=list(Tupla)\n",
    "del lis[2]\n",
    "Tupla0=tuple(lis)\n",
    "\n",
    "print(\"La Tupla recortada es:\",Tupla0)"
   ]
  },
  {
   "cell_type": "code",
   "execution_count": 67,
   "id": "2322b6b2",
   "metadata": {},
   "outputs": [
    {
     "name": "stdout",
     "output_type": "stream",
     "text": [
      "Union diccionarios\n",
      "\n",
      "{1: 'S', 2: 'o', 3: 'f', 4: 'w', 5: 'a', 6: 'r', 7: 'e'}\n"
     ]
    }
   ],
   "source": [
    "#ej 14\n",
    "print(\"Union diccionarios\\n\")\n",
    "\n",
    "dicc1={1:'S',2:'o',3:'f', 4: 't'}\n",
    "dicc2={4:'w',5:'a',6:'r', 7: 'e'}\n",
    "\n",
    "dicc1.update(dicc2)\n",
    "print(dicc1)"
   ]
  },
  {
   "cell_type": "code",
   "execution_count": 70,
   "id": "a8f1f5b1",
   "metadata": {},
   "outputs": [
    {
     "name": "stdout",
     "output_type": "stream",
     "text": [
      "Diccionario Key-Value (maximos y minimos)\n",
      "\n",
      "El diccionario de los extremos es: {'Maximo': 459, 'Minimo': -2}\n"
     ]
    }
   ],
   "source": [
    "#ej 15\n",
    "print(\"Diccionario Key-Value (maximos y minimos)\\n\")\n",
    "\n",
    "diccionario={'a':32,\n",
    "             'b':459,\n",
    "             'c':156,\n",
    "             'd':-2,\n",
    "             'e':0,}\n",
    "\n",
    "dic_extremos={\"Maximo\":max(diccionario.values()),\n",
    "            \"Minimo\":min(diccionario.values())}\n",
    "\n",
    "print(\"El diccionario de los extremos es:\",dic_extremos)"
   ]
  },
  {
   "cell_type": "code",
   "execution_count": null,
   "id": "db8e5be9",
   "metadata": {},
   "outputs": [],
   "source": []
  }
 ],
 "metadata": {
  "kernelspec": {
   "display_name": "Python 3 (ipykernel)",
   "language": "python",
   "name": "python3"
  },
  "language_info": {
   "codemirror_mode": {
    "name": "ipython",
    "version": 3
   },
   "file_extension": ".py",
   "mimetype": "text/x-python",
   "name": "python",
   "nbconvert_exporter": "python",
   "pygments_lexer": "ipython3",
   "version": "3.11.7"
  }
 },
 "nbformat": 4,
 "nbformat_minor": 5
}
